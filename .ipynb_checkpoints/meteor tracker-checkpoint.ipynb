{
 "cells": [
  {
   "cell_type": "code",
   "execution_count": 1,
   "id": "cf822d6e-10d7-4ebb-8b4c-463d21479171",
   "metadata": {},
   "outputs": [
    {
     "name": "stderr",
     "output_type": "stream",
     "text": [
      "/home/azureglades/Coding/pythong/meteor-detection-dhruva/.venv/lib/python3.12/site-packages/rtlsdr/__init__.py:19: UserWarning: pkg_resources is deprecated as an API. See https://setuptools.pypa.io/en/latest/pkg_resources.html. The pkg_resources package is slated for removal as early as 2025-11-30. Refrain from using this package or pin to Setuptools<81.\n",
      "  import pkg_resources\n"
     ]
    }
   ],
   "source": [
    "from rtlsdr import RtlSdr\n",
    "import numpy as np\n",
    "import matplotlib.pyplot as plt\n",
    "from scipy import signal\n",
    "import pandas as pd\n",
    "import csv\n",
    "import time"
   ]
  },
  {
   "cell_type": "code",
   "execution_count": null,
   "id": "667599e2-bf63-4b9d-aa09-b231ae479eca",
   "metadata": {},
   "outputs": [
    {
     "name": "stderr",
     "output_type": "stream",
     "text": [
      "Found Rafael Micro R820T tuner\n"
     ]
    }
   ],
   "source": [
    "sdr = RtlSdr()\n",
    "sdr.sample_rate = 2.4e6 # Hz\n",
    "sdr.center_freq = 92.7e6   # Hz\n",
    "sdr.freq_correction = 60  # PPM\n",
    "sdr.gain = 'auto'\n",
    "\n",
    "print(len(sdr.read_samples(1024)))\n",
    "sdr.close()"
   ]
  },
  {
   "cell_type": "code",
   "execution_count": null,
   "id": "1c7fe912-e8e5-4667-a2a1-0cca45b98f3c",
   "metadata": {},
   "outputs": [],
   "source": [
    "\n",
    "sdr = RtlSdr()\n",
    "sdr.sample_rate = 2.4e6 # Hz\n",
    "sdr.center_freq = 80.0e6   # Hz\n",
    "sdr.freq_correction = 60  # PPM\n",
    "print(sdr.valid_gains_db)\n",
    "sdr.gain = 49.6\n",
    "print(sdr.gain)\n",
    "fft_size = 512\n",
    "num_rows = 1000\n",
    "x = sdr.read_samples(2048*2400) # set how mnay samples to listen to\n",
    "x = sdr.read_samples(fft_size*num_rows) # get all the samples we need for the spectrogram\n",
    "spectrogram = np.zeros((num_rows, fft_size))\n",
    "for i in range(num_rows):\n",
    "    spectrogram[i,:] = 10*np.log10(np.abs(np.fft.fftshift(np.fft.fft(x[i*fft_size:(i+1)*fft_size])))**2)\n",
    "extent = [(sdr.center_freq + sdr.sample_rate/-2)/1e6,\n",
    "            (sdr.center_freq + sdr.sample_rate/2)/1e6,\n",
    "            len(x)/sdr.sample_rate, 0]\n",
    "plt.imshow(spectrogram, aspect='auto', extent=extent)\n",
    "plt.xlabel(\"Frequency [MHz]\")\n",
    "plt.ylabel(\"Time [s]\")\n",
    "plt.show()\n",
    "sdr.close()\n"
   ]
  },
  {
   "cell_type": "code",
   "execution_count": 46,
   "id": "283a9386-81c1-48d6-8e75-052c8fa47df8",
   "metadata": {},
   "outputs": [],
   "source": [
    "spect_df = pd.DataFrame(spectrogram)\n",
    "spect_df.to_csv(\"spectrogram.csv\")"
   ]
  },
  {
   "cell_type": "code",
   "execution_count": 47,
   "id": "aa648b84-b81b-49d1-8824-444058d80309",
   "metadata": {},
   "outputs": [],
   "source": [
    "interval_width = 5\n",
    "num_intervals = int(num_rows/interval_width)\n",
    "mean_vals = np.zeros((num_intervals, fft_size))\n",
    "\n",
    "for i in range(0,num_rows,interval_width):\n",
    "    mean_vals[int(i/interval_width)] = spect_df.iloc[i:i+interval_width].values.mean()\n"
   ]
  },
  {
   "cell_type": "code",
   "execution_count": 50,
   "id": "99cc631b",
   "metadata": {},
   "outputs": [
    {
     "data": {
      "text/plain": [
       "np.float64(7.506453373000168)"
      ]
     },
     "execution_count": 50,
     "metadata": {},
     "output_type": "execute_result"
    }
   ],
   "source": [
    "#plt.plot(range(0,num_intervals),mean_vals)\n",
    "mean_vals.max() - mean_vals.min()"
   ]
  }
 ],
 "metadata": {
  "kernelspec": {
   "display_name": "Python 3 (ipykernel)",
   "language": "python",
   "name": "python3"
  },
  "language_info": {
   "codemirror_mode": {
    "name": "ipython",
    "version": 3
   },
   "file_extension": ".py",
   "mimetype": "text/x-python",
   "name": "python",
   "nbconvert_exporter": "python",
   "pygments_lexer": "ipython3",
   "version": "3.12.3"
  }
 },
 "nbformat": 4,
 "nbformat_minor": 5
}
